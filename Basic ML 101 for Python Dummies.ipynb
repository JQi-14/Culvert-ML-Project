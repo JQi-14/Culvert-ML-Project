{
 "cells": [
  {
   "cell_type": "markdown",
   "metadata": {},
   "source": [
    "https://machinelearningmastery.com/automate-machine-learning-workflows-pipelines-python-scikit-learn/<br/>\n",
    "https://machinelearningmastery.com/selectively-scale-numerical-input-variables-for-machine-learning/<br/>\n",
    "https://machinelearningmastery.com/modeling-pipeline-optimization-with-scikit-learn/<br/>"
   ]
  },
  {
   "cell_type": "markdown",
   "metadata": {},
   "source": [
    "Loss function & gradiant descent<br/>\n",
    "https://becominghuman.ai/univariate-linear-regression-clearly-explained-with-example-4164e83ca2ee"
   ]
  },
  {
   "cell_type": "markdown",
   "metadata": {},
   "source": [
    "Time series forcasting - top algorithms <br/>\n",
    "https://www.advancinganalytics.co.uk/blog/2021/06/22/10-incredibly-useful-time-series-forecasting-algorithms"
   ]
  },
  {
   "cell_type": "markdown",
   "metadata": {},
   "source": [
    "run this code to get more info regarding python<br/>\n",
    "<code>help()<code>"
   ]
  },
  {
   "cell_type": "markdown",
   "metadata": {},
   "source": [
    "$\\color{red}{\\text{If you messed up with the libraries (i.e. compatibility issues)}}$ <br/>\n",
    "* **Fix it right the dummy way**\n",
    "    1. delete the python folder on C drive (or W) <br/>\n",
    "    2. uninstall Python & Anaconda <br/>\n",
    "    3. restart the machine <br/>\n",
    "    4. reinstall everything<br/>\n",
    "* **Reinstall specific version of library that is causing problems**<br/>\n",
    "Example: <code>pip install pandas==1.1.1</code><br/>\n",
    "* **Advanced**:<br/>\n",
    "It is highly recommended to install/modify libraries in virtual environment.<br/>\n",
    "https://uoa-eresearch.github.io/eresearch-cookbook/recipe/2014/11/20/conda/<br/>\n",
    "https://machinelearningmastery.com/setup-python-environment-machine-learning-deep-learning-anaconda/<br/>\n",
    "\n",
    "\n",
    "\n",
    "\n",
    "***\n",
    "Notes on how to use Markdown <br/>\n",
    "https://www.ibm.com/docs/en/watson-studio-local/1.2.3?topic=notebooks-markdown-jupyter-cheatsheet<br/>\n",
    "https://matplotlib.org/stable/tutorials/colors/colors.html<br/>\n",
    "https://www.datacamp.com/community/tutorials/markdown-in-jupyter-notebook<br/>\n",
    "https://stackoverflow.com/questions/8924173/how-do-i-print-bold-text-in-python<br/>\n",
    "https://towardsdatascience.com/the-statistical-greek-alphabet-in-python-65295526146<br/>\n",
    "Upload data online<br/> https://www.r-bloggers.com/2012/06/data-on-github-the-easy-way-to-make-your-data-available/<br/>\n",
    "\n",
    "***\n",
    "While in **edit mode** - cell boundary is green<br />\n",
    "While in **command mode** - cell boundary is blue <br />\n",
    "* Ctrl+Enter - run codes in the selected cell<br />\n",
    "* Alt+Enter - run codes in the selected cell and add block below <br />\n",
    "* B - add block below<br />\n",
    "* A - add block above<br />\n",
    "* DD - delete the cell<br />\n",
    "* H - show all shortcuts<br />"
   ]
  },
  {
   "cell_type": "markdown",
   "metadata": {},
   "source": [
    "### Pandas dataframe 101\n",
    "* basics <br/>\n",
    "https://www.shanelynn.ie/using-pandas-dataframe-creating-editing-viewing-data-in-python/<br/>\n",
    "* <code>.loc</code>, <code>.iloc</code>, etc. <br/>\n",
    "https://pandas.pydata.org/docs/reference/api/pandas.DataFrame.loc.html<br/>\n",
    "* axis 0 vs axis 1: rows and columns, respectively.  DataFrame has two axes, and “axis” parameter determines along which axis an operation should be performed.<br/>\n",
    "    “axis 0” has two aliases: ‘index’ and ‘rows’. “axis 1” has only one: ‘columns’. You can use these aliases instead of numbers<br/>\n",
    "https://railsware.com/blog/python-for-machine-learning-pandas-axis-explained/<br/>\n",
    "* load data into dataframe<br/>\n",
    "          pd.DataFrame('column name1', [dataset1], ... )\n",
    "* Convert dataframe to array and vise versa\n",
    "    1.  **array to dataframe**<br/>\n",
    "            from pandas import DataFrame\n",
    "            pandas.dataframe = DataFrame(dataArray)\n",
    "            row - len(dataframe); column - len(dataframe.columns)\n",
    "            dataframe.shape\n",
    "            dataframe.describe()  #numeric data - distribution\n",
    "            dataset.value_counts() #categorical data - list of categories\n",
    "            **or**  dataset.groupby('column name').size() #categorical data - list of categories\n",
    "            **or**  dataArray = dataframe.reshape((len(dataframe),xxx)) **change to the numbers of rows and columns**\n",
    "    2.  **dataframe to array** (have to do before slicing for newer versions of matplotlib and other libraries!)<br/>\n",
    "            dataArray=dataframe.values\n",
    "            row - len(dataArray) **none for column**\n",
    "            dataArray.shape\n",
    "            row - dataArray.shape[0]; column - dataArray.shape[1]  **for 2-D array**"
   ]
  },
  {
   "cell_type": "markdown",
   "metadata": {},
   "source": [
    "# Graphviz\n",
    "\n",
    "We can also export the tree in Graphviz format using the export_graphviz exporter. If you use the conda package manager, the graphviz binaries and the python package can be installed with conda install python-graphviz.\n",
    "\n",
    "Alternatively binaries for graphviz can be downloaded from the graphviz project homepage, and the Python wrapper installed from pypi with pip install graphviz.\n",
    "\n",
    "The export_graphviz exporter also supports a variety of aesthetic options, including coloring nodes by their class (or value for regression) and using explicit variable and class names if desired. Jupyter notebooks also render these plots inline automatically\n",
    "\n",
    "\n",
    "https://scikit-learn.org/stable/modules/tree.html"
   ]
  },
  {
   "cell_type": "markdown",
   "metadata": {},
   "source": [
    "# ML 101\n",
    "\n",
    "#### Read First\n",
    "$\\color{red}{\\text{A Tour of Machine Learning Algorithms}}$<br/>\n",
    "https://machinelearningmastery.com/a-tour-of-machine-learning-algorithms/\n",
    "\n",
    "\n",
    "$\\color{}{\\text{Predictive Modeling}}$<br/>\n",
    "https://machinelearningmastery.com/gentle-introduction-to-predictive-modeling/<br/>\n",
    "Developing a model using historical data to make a prediction on new data where we do not have the answer.<br/>\n",
    "\n",
    "Predictive modeling can be described as the mathematical problem of approximating a mapping function (f) from input variables (X) to output variables (y). This is called the problem of **function approximation**.<br/>\n",
    "\n",
    "The job of the modeling algorithm is to find the best mapping function we can given the time and resources available.<br/>\n",
    "***\n",
    "\n"
   ]
  },
  {
   "cell_type": "markdown",
   "metadata": {},
   "source": [
    "$\\color{blue}{\\text{The 5-step (macro) process to consistently achieve above average results on predictive modeling problems:}}$\n",
    "\n",
    "**Step 1: Define your problem.**<br/>\n",
    "* Define Your Machine Learning Problem<br/>\n",
    "\n",
    "**Step 2: Prepare your data.**<br/>\n",
    "1. Data Selection: Consider what data is available, what data is missing and what data can be removed.\n",
    "2. Data Preprocessing: Organize your selected data by formatting, cleaning and sampling from it.\n",
    "    * Formatting\n",
    "    * Cleaning\n",
    "    * Sampling\n",
    "3.  Data Transformation (aka feature engineering or feature extraction): Transform preprocessed data ready for machine learning by engineering features using scaling, attribute decomposition and attribute aggregation.\n",
    "    * Scaling: to be sure that the model treats  all variables equally\n",
    "    * Re-distribute\n",
    "    * Attribute Composition: There may be features that represent a complex concept that may be more useful to a machine learning method when split into the constituent parts. Such as time vs date.\n",
    "    * Attribute Aggregation: There may be features that can be aggregated into a single feature that would be more meaningful to the problem you are trying to solve. \n",
    "    * Feature Selection: the process of reducing the number of input variables when developing a predictive model.<br/>\n",
    "        * for supervised models: wrapper, filter and intrinsic.<br/>\n",
    "        * for unsupervised models<br/>\n",
    "https://machinelearningmastery.com/feature-selection-with-real-and-categorical-data/<br/>\n",
    "\n",
    "**Step 3: Spot-check algorithms.**<br/>\n",
    "* Select a performance metric for evaluating model predictive skill.\n",
    "* Select a model evaluation procedure.\n",
    "* Select algorithms to evaluate.\n",
    "* Prevent data leakage with data sampling techniques, such as K-fold CV\n",
    "\n",
    "**Step 4: Improve results.**<br/>\n",
    "* Tune algorithm hyperparameters.\n",
    "* Combine predictive models into ensembles.\n",
    "\n",
    "**Step 5: Present results.**<br/>\n",
    "*     Train a Final Machine Learning Model<br/>\n",
    "*     Deploy Your Predictive Model To Production<br/>\n",
    "https://machinelearningmastery.com/start-here/#process<br/>\n",
    "***"
   ]
  },
  {
   "cell_type": "markdown",
   "metadata": {},
   "source": [
    "$\\color{c}{\\text{Common ML algorithms}}$ \n",
    "1. Simple Linear <br/>\n",
    "    Logistic Regression (LR)<br/>\n",
    "    Linear Discriminant Analysis (LDA)<br/>\n",
    "2. Non-linear<br/>\n",
    "    K-Nearest Neighbors (KNN)<br/>\n",
    "    Classification and Regression Trees (CART)<br/>\n",
    "    Gaussian Naive Bayes (NB)<br/>\n",
    "    Support Vector Machines (SVM)<br/>\n",
    "\n",
    "<img src=\"https://i.stack.imgur.com/i8OO5.png\" width=300 height=300 />\n",
    "Our task is to find the **best parameters** (a.k.a Thetas or Weights) that give us the **least error** in predicting the output. We call the function that calculates this error a **Cost or Loss Function** <br/>\n",
    "\n",
    "our goal is to **minimize** the error in order to get the best predicted output!<br/>\n",
    "\n",
    "https://stackoverflow.com/questions/38640109/logistic-regression-python-solvers-definitions<br/>\n",
    "\n",
    "\n",
    "$\\color{c}{\\text{Classification vs Regression Predictive Modelling}}$  <br/>\n",
    "https://machinelearningmastery.com/classification-versus-regression-in-machine-learning/ <br/>\n",
    "* Classification: \n",
    "    1. approximating a mapping function (f) from input variables (X) to **discrete** output variables (y). The output variables are often called labels or categories.<br/>\n",
    "    2. A classification algorithm may predict a continuous value, but the continuous value is in the form of a probability for a class label. A predicted probability can be converted into a class value by selecting the class label that has the highest probability.<br/>\n",
    "    3. The most common way to estimate the skill of a classification predictive model is  classification accuracy: percentage of correctly classified examples out of all predictions made\n",
    "    4. An algorithm that is capable of learning a classification predictive model is called a **classification algorithm**.\n",
    "* Regression:\n",
    "    1. approximating a mapping function (f) from input variables (X) to a **continuous** output variable (y).\n",
    "    2. Because a regression predictive model predicts a quantity, the skill of the model must be reported as an error in those predictions.\n",
    "    3. The most common way to estimate the skill of a regression predictive model is the root mean squared error\n",
    "    4. An algorithm that is capable of learning a regression predictive model is called a **regression algorithm**.\n",
    "* Crossover\n",
    "    1. Regression to classification: Achieved through **discretization**: binning continuous variables by range to form (ordinal) classes.\n",
    "    2. Classification to regression: two ways. \n",
    "         * scale the prediction class to a specific range by the prediction probability  quantity = min + probability * range. \n",
    "         * convert class to continous range, **meaningful only if the classes are ordinal**\n",
    "***"
   ]
  },
  {
   "cell_type": "markdown",
   "metadata": {},
   "source": [
    "# Input Variable Transformation\n",
    "https://machinelearningmastery.com/selectively-scale-numerical-input-variables-for-machine-learning/<br/>\n",
    "\n",
    "*Many machine learning models perform better when input variables are carefully transformed or scaled prior to modeling*\n",
    "\n",
    "It is convenient, and therefore common, to apply the **same** data transforms, such as standardization and normalization, **equally to all input variables**"
   ]
  },
  {
   "cell_type": "markdown",
   "metadata": {},
   "source": [
    "# Lingo: \n",
    "1. $\\color{purple}{\\text{Test harness}}$ (automated test framework): a collection of software and test data configured to test a program unit by running it under varying conditions and monitoring its behavior and outputs. It has two main parts: the test execution engine and the test script repository. <br/>\n",
    "2. $\\color{purple}{\\text{Repository}}$ (\"repo\"): a storage location for software packages or just data.<br/>\n",
    "3. $\\color{purple}{\\text{Transform}}$ (noun): tools that may clean (*see Preprocessing data*), reduce (*see Unsupervised dimensionality reduction*), expand (*see Kernel Approximation*) or generate (*see Feature extraction*) feature representations (i.e.,  tools that extracts salient features from raw data to be presented to the learning algorithm -- untangle complex relationships and compound input variables, in turn allowing the use of simpler modeling algorithms, such as linear machine learning techniques.)<br/>\n",
    "Bottom line is: you cannot use a transformer that will take a part of your target variable array and transform it into part of your X array. You either transform one or another.<br/>\n",
    "https://scikit-learn.org/stable/data_transforms.html<br/>\n",
    "https://medium.com/analytics-vidhya/scikit-learn-pipeline-transformers-the-hassle-of-transforming-target-variables-part-1-6dfb714e2aad<br/>\n",
    "4. $\\color{purple}{\\text{Estimator}}$: The object to use to fit the data (aka. the ML algorithms).<br/>\n",
    "5. $\\color{purple}{\\text{Data leakage}}$:  when information from outside the training dataset is used to create predictive models. It causes you to create overly optimistic if not completely invalid predictive models. This additional information can allow the model to learn or know something that it otherwise would not know and in turn invalidate the estimated performance of the mode being constructed.To avoid it, you need a robust test harness with strong separation of training and testing: <br/> $\\color{red}{\\text{Data preparation must be fit on the training dataset only.}}$ More generally, the entire modeling pipeline must be prepared only on the training dataset to avoid data leakage.<br/> \n",
    "        1. Split Data.\n",
    "        2. Fit Data Preparation on Training Dataset. ***Fit ONCE on training set only***\n",
    "        3. Apply Data Preparation to Train and Test Datasets.\n",
    "        4. Evaluate Models.\n",
    "*If you perform feature selection on all of the data and then cross-validate, then the test data in each fold of the cross-validation procedure was also used to choose the features and this is what biases the performance analysis*<br/> \n",
    "    $\\color{teal}{\\text{5 Tips to Combat Data Leakage}}$\n",
    "    * **Temporal Cutoff**. Remove all data just prior to the event of interest, focusing on the time you learned about a fact or observation rather than the time the observation occurred.<br/>\n",
    "    * **Add Noise**. Add random noise to input data to try and smooth out the effects of possibly leaking variables.<br/>\n",
    "    * **Remove Leaky Variables**. Evaluate simple rule based models line OR using variables like account numbers and IDs and the like to see if these variables are leaky, and if so, remove them. If you suspect a variable is leaky, consider removing it.<br/>\n",
    "    * **Use Pipelines**. Heavily use pipeline architectures that allow a sequence of data preparation steps to be performed within cross validation folds, such as the caret package in R and Pipelines in scikit-learn.<br/>\n",
    "    * **Use a Holdout Dataset**. Hold back an unseen validation dataset as a final sanity check of your model before you use it.<br/>\n",
    "https://machinelearningmastery.com/data-leakage-machine-learning/<br/>\n",
    "6. $\\color{purple}{\\text{Standardization}}$ (of datasets): a common requirement for many machine learning estimators implemented in scikit-learn; they might behave badly if the individual features do not more or less look like standard normally distributed data: Gaussian with zero mean and unit variance.<br/>\n",
    "7. $\\color{purple}{\\text{Pipeline}}$: literal meaning - a system for development, preparation, or production; a object that chain (i.e., join) the transforms and estimator(s). <br/>\n",
    "    * Each step in the list is a tuple with two elements. The first element is the name of the step (a string) and the second is the configured object of the step, such as a transform or a model. \n",
    "    * The model is only supported as the final step, although we can have as many transforms as we like in the sequence.\n",
    "    * The configured pipeline is passed to the <code>cross_val_score()</code> function for evaluation.\n",
    "8. $\\color{purple}{\\text{Predictive Modeling}}$: to develop a model that makes accurate predictions on new data, unseen during training. We must estimate the performance of the model on unseen data by training it on only some of the data we have and evaluating it on the rest of the data. This is the principle that underlies cross validation and more sophisticated techniques that try to reduce the variance in this estimate.\n",
    "9. $\\color{purple}{\\text{Data preparation}}$: Pre-process the raw data prior to being used to fit and evaluate a machine learning model. \n",
    "    * **Data Cleaning**: Identifying and correcting mistakes or errors in the data.\n",
    "    * **Feature Selection**: Identifying those input variables that are most relevant to the task.\n",
    "    * **Data Transforms**: Changing the scale or distribution of variables.\n",
    "    * **Feature Engineering**: Deriving new variables from available data.\n",
    "    * **Dimensionality Reduction**: Creating compact projections of the data.\n",
    "10. $\\color{purple}{\\text{Feature selection}}$: the process of reducing the number of input variables when developing a predictive model. It is desirable to reduce the number of input variables to both reduce the computational cost of modeling and, in some cases, to improve the performance of the model.\n",
    "11. $\\color{purple}{\\text{Parameter}}$ <br/>\n",
    "A configuration variable that is **internal** to the model and whose value **can** be estimated from data.<br/>\n",
    "Whether a model has a fixed or variable number of parameters determines whether it may be referred to as **parametric** or **nonparametric**.<br/>\n",
    "* $\\color{purple}{\\text{Hyperparameter}}$<br/>\n",
    "A configuration that is **external** to the model and whose value **cannot** be estimated from data.<br/>\n",
    "\n",
    "  * often used in processes to help estimate model parameters.<br/>\n",
    "  * often specified by the practitioner.<br/>\n",
    "  * can often be set using heuristics.<br/>\n",
    "  * often tuned for a given predictive modeling problem.<br/>\n",
    "*If you have to specify a model parameter manually then it is probably a model hyperparameter.*<br/>\n",
    "We cannot know the best value for a model hyperparameter on a given problem. We may use rules of thumb, copy values used on other problems, or search for the best value by trial and error.<br/>\n",
    "* $\\color{purple}{\\text{Sparse Data}}$<br/>\n",
    "Data represented as sparse matrices. Sparse data sets are frequently large, making it hard to use standard machine learning python tools such as pandas and sklearn. It is not uncommon for the memory of an average local machine not to suffice for the storage or processing of a large data set. Even if memory is sufficient, processing time can increase significantly.<br/>\n",
    "https://towardsdatascience.com/working-with-sparse-data-sets-in-pandas-and-sklearn-d26c1cfbe067<br/>\n",
    "* $\\color{purple}{\\text{Sparse matrix}}$<br/>\n",
    "A **sparse** matrix is a matrix in which most of the elements are zero. On the contrary, a table in which the majority of elements are non zero is called **dense**. We define the sparsity of a matrix as the number of zero elements divided by the total number of elements. A matrix with sparsity greater than 0.5 is a sparse matrix. <br/>\n",
    "Frequently, we start from a dense data set that includes categorical variables. Typically, we have to apply one-hot encoding for these variables. When these variables have high cardinality (large number of distinct values), one-hot encoding will generate a sparse data set.<br/>\n",
    "    1. We can make use of pandas sparse dtypes while working with large sparse data frames in pandas<br/>\n",
    "    2. We can also exploit the sparse option available in <code>get_dummies</code>, to automatically create sparse data frames<br/>\n",
    "    3. We should consider converting our data to scipy sparse matrices when working with machine learning libraries<br/>"
   ]
  },
  {
   "cell_type": "markdown",
   "metadata": {},
   "source": [
    "# Other algorithms for supervised learn\n",
    "https://scikit-learn.org/stable/supervised_learning.html<br/>\n",
    "1. Linear Models <br/>\n",
    "2. Linear and Quadratic Discriminant Analysis<br/>\n",
    "3. Kernel ridge regression<br/>\n",
    "4. Support Vector Machines<br/>\n",
    "5. Stochastic Gradient Descent<br/>\n",
    "6. Nearest Neighbors<br/>\n",
    "7. Gaussian Processes<br/>\n",
    "8. Cross decomposition<br/>\n",
    "9. Naive Bayes<br/>\n",
    "10. Decision Trees<br/>\n",
    "11. Ensemble methods<br/>\n",
    "12. Multiclass and multioutput algorithms<br/>\n",
    "13. Feature selection<br/>\n",
    "14. Semi-supervised learning<br/>\n",
    "15. Isotonic regression<br/>\n",
    "16. Probability calibration<br/>\n",
    "17. Neural network models (supervised)<br/>"
   ]
  },
  {
   "cell_type": "markdown",
   "metadata": {},
   "source": [
    "<img src= \"https://github.com/JQi-14/Culvert-ML-Project/blob/main/MachineLearningAlgorithms%20-%20ML%20Mastery.jpg?raw=true\" />"
   ]
  },
  {
   "cell_type": "markdown",
   "metadata": {},
   "source": [
    "https://machinelearningmastery.com/machine-learning-in-python-step-by-step/<br/>\n",
    "# $\\color{darkgreen}{\\text{ML (micro) Process Flow}}$\n",
    "***\n",
    "Model = Data Preparation + Learning Algorithm + Hyperparameters<br/>\n",
    "\n",
    "It is common to use k-fold cross-validation to evaluate a machine learning algorithm on a dataset. When using cross-validation, it is good practice to perform data transforms like RFE as part of a Pipeline to avoid data leakage.<br/>\n",
    "***\n",
    "1. check and load relevant python libraries<br/>\n",
    "2. examine the data by its patterns and correlations<br/>\n",
    "    2.1 numerical  <br/>\n",
    "    2.2 visual<br/>\n",
    "    2.3 feature scaling if scales across all varaibles are not similar<br/>\n",
    "3. evaluate algorithms using the training set (it will be split into training and test sets)<br/>\n",
    "    3.1 seperate train and test sets by X and y  <br/> \n",
    "    3.2 test harness to estimate model accuracy    <br/>\n",
    "    3.3 build ML models to predict target variable   <br/> \n",
    "    3.4 Determine the model with the best performance<br/>\n",
    "4. Make predictions on the test set with the best model<br/>\n",
    "    purpose: minimize optimistic result by identifing possible overfitting or data leak(?)<br/>\n",
    "    4.1 fit the model again using the entire training set (all k subsets)<br/>\n",
    "    4.2 make predictios on the test set<br/>\n",
    "    4.3 report performance"
   ]
  },
  {
   "cell_type": "markdown",
   "metadata": {},
   "source": [
    "<img src=\"https://github.com/JQi-14/Culvert-ML-Project/blob/main/Misc./Process%20Flow.png?raw=true\" width=600 height=600>\n",
    "\n",
    "*\t**Why we need a separate test set from the training set** <br/>\n",
    "“Learning the parameters of a prediction function and testing it on the same data is a methodological mistake: a model that would just repeat the labels of the samples that it has just seen would have a perfect score but would fail to predict anything useful on yet-unseen data. This situation is called overfitting. To avoid it, it is common practice when performing a (supervised) machine learning experiment to hold out part of the available data as a test set <code>X_test, y_test</code>.”\n",
    " \n",
    "*\t**Why we need an additional validation set besides the train and test sets**<br/>\n",
    "“When evaluating different settings (“hyperparameters”) for estimators, there is still a risk of overfitting on the test set because the parameters can be tweaked until the estimator performs optimally. This way, knowledge about the test set can “leak” into the model and evaluation metrics no longer report on generalization performance.” (meaning you are changing the parameters to achieve best prediction result, specifically, for the test set, this will cause the model to lose its generalization performance).<br/>\n",
    "“To solve this problem, yet another part of the dataset can be held out as a so-called “validation set”: training proceeds on the training set, after which evaluation is done on the validation set, and when the experiment seems to be successful, final evaluation can be done on the test set.” (here it means to ‘hard’ separate out a set dedicated as the validation set the way you split the train and test)\n",
    " \n",
    "*\t**Why cross-validation is better than using a simple validation set**<br/>\n",
    "“However, by partitioning the available data into three sets, we drastically reduce the number of samples which can be used for learning the model, and the results can depend on a particular random choice for the pair of (train, validation) sets.\n",
    "A solution to this problem is a procedure called cross-validation (CV for short). A test set should still be held out for final evaluation, but the validation set is no longer needed when doing CV. In the basic approach, called k-fold CV, the training set is split into k smaller sets.\n",
    "The performance measure reported by k-fold cross-validation is then the average of the values computed in the loop. This approach can be computationally expensive, but does not waste too much data (as is the case when fixing an arbitrary validation set), which is a major advantage in problems such as inverse inference where the number of samples is very small.”<br/>\n",
    " \n",
    "Source: https://scikit-learn.org/stable/modules/cross_validation.html#cross-validation <br/>\n",
    "\n",
    "\n",
    "\n",
    "\n",
    "**k-fold cross-validation**:<br/>\n",
    "* splits dataset into k non-overlapping groups of rows (aka. k folds) <br/>\n",
    "* trains on all but one group (aka. the hold-out fold) to form a training dataset<br/>\n",
    "* evaluates on the hold-out fold<br/>\n",
    "* uses each fold as the holdout test set (k evaluations) <br/>\n",
    "* reports mean performance across all evalutions <br/>\n",
    "* generally gives a more reliable estimate of model performance than a train-test split, although it is more computationally expensive given the repeated fitting and evaluation of models.<br/>\n",
    "* requires that the data preparation method is prepared on the training set and applied to the train and test sets within the cross-validation procedure to avoid data leakage"
   ]
  },
  {
   "cell_type": "markdown",
   "metadata": {},
   "source": [
    "# Model Skills Evaluation\n",
    "https://machinelearningmastery.com/regression-metrics-for-machine-learning/<br/>\n",
    "other possible methods at https://scikit-learn.org/stable/modules/model_evaluation.html#scoring-parameter<br/>\n",
    "1. $\\color{darkgreen}{\\text{Classification Metrics}}$:  \n",
    "    1. $\\color{b}{\\text{Accuracy}}$ (e.g. classification accuracy) <br/>\n",
    "    <code>accuracy_score(y_true, y_pred, *[, ...])</code>\n",
    "        * ($\\color{red}{\\text{0}}$ - 1)\n",
    "        * **Cannot** be used for a regression model<br/>\n",
    "    2. $\\color{b}{\\text{F1-Score}}$ with precision and recall <br/>\n",
    "    https://scikit-learn.org/stable/modules/generated/sklearn.metrics.f1_score.html#sklearn.metrics.f1_score<br/>\n",
    "    <code>classification_report(y_true, y_pred, *[, labels, ...])</code> or <code>f1_score(y_true, y_pred, *[, labels, ...])</code>\n",
    "        * ($\\color{red}{\\text{0}}$ - 1)\n",
    "        * precision is the ability of the classifier not to produce false positive. When <code>true positive + false positive == 0</code>, precision is undefined\n",
    "        * recall is the ability of the classifier to find all the positive samples. When <code>true positive + false negative == 0</code>, recall is undefined.<br/>\n",
    "        * The F-measure interpreted as a weighted harmonic mean of the precision and recall\n",
    "        * In the multi-class and multi-label case, this is the average of the F1 score of each class with weighting depending on the  <code>average</code> parameter. \n",
    "        * Average methods:<br/>\n",
    "        **'binary'**:Only report results for the class specified by pos_label. This is applicable only if targets (y_{true,pred}) are binary.<br/>\n",
    "        **'micro'**:Calculate metrics globally by counting the total true positives, false negatives and false positives.<br/>\n",
    "        **'macro'**:Calculate metrics for each label, and find their unweighted mean. This does not take label imbalance into account.<br/>\n",
    "        **'weighted'**:Calculate metrics for each label, and find their average weighted by support (the number of true instances for each label). This alters ‘macro’ to account for label imbalance; it can result in an F-score that is not between precision and recall.<br/>\n",
    "        **'samples'**:Calculate metrics for each instance, and find their average (only meaningful for multilabel classification where this differs from accuracy_score).<br/>\n",
    "\n",
    "        \n",
    "2. $\\color{darkgreen}{\\text{Regression Metrics}}$: The skill or performance of a regression model must be reported as an **error** in those predictions<br/>\n",
    "    1. $\\color{b}{\\text{Mean Squared Error (MSE) - squred units}}$  <br/>\n",
    "     https://scikit-learn.org/stable/modules/generated/sklearn.metrics.mean_squared_error.html#sklearn.metrics.mean_squared_error<br/>\n",
    "     <code>mean_squared_error(y_true, y_pred) </code>\n",
    "          * (0 - $\\color{red}{\\text{$\\infty$}}$)\n",
    "          * The MSE is calculated as the mean or average of the squared differences between predicted and expected target values in a dataset.<br/>\n",
    "          * The larger the difference between the predicted and expected values, the larger the resulting squared positive error.<br/>\n",
    "          * “punishing” models more for larger errors more than smaller errors,  inflating or magnifying the mean error score \n",
    "    2. $\\color{b}{\\text{Root Mean Squared Error (RMSE) - same units}}$ <br/>\n",
    "          <code>mean_squared_error(y_true, y_pred, squared=False)</code>\n",
    "          * (0 - $\\color{red}{\\text{$\\infty$}}$)\n",
    "          * Common to use MSE as loss function but report RMSE for unit clarity\n",
    "          * RMSE = sqrt(MSE)\n",
    "          * **cannot** be calculated as the average of the square root of the mean squared error values\n",
    "          * perfect RMSE value is 0.0 - all predictions matched the expected values exactly.\n",
    "          * A **good** RMSE is relative. A model that achieves an RMSE better than the RMSE for the naive model, such as predicting the mean target value from the training dataset, has skill.\n",
    "    3. $\\color{b}{\\text{Mean Absolute Error (MAE) - same units}}$  <br/>\n",
    "         https://scikit-learn.org/stable/modules/generated/sklearn.metrics.mean_absolute_error.html#sklearn.metrics.mean_absolute_error<br/>\n",
    "         <code>mean_absolute_error(y_true, y_pred)</code>\n",
    "        * (0 - $\\color{red}{\\text{$\\infty$}}$)\n",
    "        * Different from MSE and RMSE (sensitive to larger errors), MAE increase linearly with increases in error.\n",
    "        * perfect mean absolute error value is 0.0\n",
    "        * A **good** RMSE is relative. A model that achieves a MAE better than the MAE for the naive model has skill.\n",
    "    4. $\\color{b}{\\text{Coefficient of Determination (R², less commonly used)}}$ <br/>https://scikit-learn.org/stable/modules/generated/sklearn.metrics.r2_score.html#sklearn.metrics.r2_score<br/>\n",
    "        <code>r2_score(y_true, y_pred)</code> this code calculates unadjusted R² without correcting for bias in sample variance of y.\n",
    "        * ($\\color{red}{\\text{-$\\infty$}}$ - 1)\n",
    "        * It represents the proportion of variance (of y) that has been explained by the independent variables in the model. \n",
    "        * It provides an indication of goodness of fit and therefore a measure of how well unseen samples are likely to be predicted by the model, through the proportion of explained variance.\n",
    "        * Best possible score is 1.0 and it can be negative\n"
   ]
  },
  {
   "cell_type": "markdown",
   "metadata": {},
   "source": [
    "$\\color{c}{\\text{Methods to split data}}$\n",
    "1. Simple split (yields 1 model)<br/>\n",
    "  <code>train_test_split()</code> <br/>\n",
    "2. k-fold split (yields k unique models)<br/>\n",
    "<code>KFold()</code><br/>\n",
    "3. Stratified version of simple split (yields 1 model)<br/>\n",
    "<code>train_test_split(...,stratify=y)</code><br/>\n",
    "4. stratified k-fold split based on target variable (y) (yields k unique models)<br/>\n",
    "<code>StratifiedKFold()</code><br/>\n",
    "5. Repeated Stratified K-Fold cross validator<br/>\n",
    "<code>RepeatedStratifiedKFold</code> <br/>\n",
    "\n",
    "\n",
    "Cannot **directly** use any stratified k-fold CVs on **continuous target variabels**<br/>\n",
    "BUT can do so **after** creating bins, and passing y variable into an ndarray containing those bins and the corresponding values<br/>\n",
    "https://michaeljsanders.com/2017/03/24/stratify-continuous-variable.html\n",
    "\n",
    "***\n",
    "***\n",
    "\n",
    "https://scikit-learn.org/stable/modules/cross_validation.html#cross-validation<br/>\n",
    "CV: Split into train and test, and train multiple models by sampling the train set. Finally, just test once on the test set.\n",
    "<img src='https://scikit-learn.org/stable/_images/grid_search_workflow.png' width=500 />\n",
    "\n",
    "***\n",
    "$\\color{blue}{\\text{Stratified k-fold cross-validation (a type of resampling for a limited and imbalanced dataset)}}$<br/> \n",
    "$\\color{c}{\\text{K-fold CV - for limited dataset}}$\n",
    "* purpose: to estimate the performance of a ML model on unseen data\n",
    "* pros: \n",
    "K-fold CV results in less biased/optimistic estimate of the model of limited datasetthan simple train/test split with balanced class distribution, but will only perform well on majority class if data class has imbalanced distribution <br/> \n",
    "\n",
    "Process:\n",
    "   * Shuffle the dataset randomly\n",
    "   * Split the dataset into k groups\n",
    "   * For each unique group (generate k models):\n",
    "        * Take the group as a hold out or test data set\n",
    "        * Take the remaining (k-1) groups as a training data set\n",
    "        * Fit a model on the training set and evaluate it on the test set\n",
    "        * Retain the evaluation score and discard the model\n",
    "        * Summarize the skill of the model using the sample of model evaluation scores\n",
    "  \n",
    "Notes: \n",
    "* each sample is given the opportunity to be used in the hold out set 1 time and used to train the model k-1 times\n",
    "* $\\color{red}{\\text{It is also important that any preparation of the data prior to fitting the model occur on the}}$ \n",
    "$\\color{red}{\\text{occur on the CV-assigned training dataset within the loop rather than on the broader data set. }}$ \n",
    "$\\color{red}{\\text{This also applies to any tuning of hyperparameters. A failure to perform these operations within the loop}}$ \n",
    "$\\color{red}{\\text{may result in data leakage and an optimistic estimate of the model skill}}$  ??????\n",
    "*k value must be chosen carefully for your data sample\n",
    "    * The value for k is chosen such that each train/test group of data samples is large enough to be statistically representative of the broader dataset.\n",
    "    * In general, the greater the k, the less the bias of the technique\n",
    "    * Preferably, to split into k groups of same number of samples\n",
    "    \n",
    "\n",
    "\n",
    "$\\color{c}{\\text{Stratification (stratified sampling) - for imbalanced data class distribution}}$\n",
    "* purpose:  preserved the imbalabced class (target variable) distribution in each fold  <br/>\n",
    "The target variable (y), the class, is used to control the sampling process.\n",
    "* pros: On top of k-fold CV, stratification is effective for data with severe class imbalance (**for classification model**) <br/> \n",
    "\n",
    "\n",
    "\n",
    "https://machinelearningmastery.com/cross-validation-for-imbalanced-classification/"
   ]
  },
  {
   "cell_type": "markdown",
   "metadata": {},
   "source": [
    "# Data Visualization\n",
    "https://scikit-learn.org/stable/auto_examples/miscellaneous/plot_display_object_visualization.html#sphx-glr-auto-examples-miscellaneous-plot-display-object-visualization-py <br>\n",
    "Plot organization<br/>\n",
    "https://towardsdatascience.com/plot-organization-in-matplotlib-your-one-stop-guide-if-you-are-reading-this-it-is-probably-f79c2dcbc801<br/>\n",
    "Plot tutorial<br/>\n",
    "https://matplotlib.org/3.5.0/tutorials/introductory/pyplot.html#sphx-glr-tutorials-introductory-pyplot-py<br/>\n",
    "https://python-graph-gallery.com/134-how-to-avoid-overplotting-with-python<br/>\n",
    "Plot editor<br/>\n",
    "https://www.w3schools.com/python/matplotlib_labels.asp<br/>\n",
    "https://jonathansoma.com/lede/data-studio/matplotlib/list-all-fonts-available-in-matplotlib-plus-samples/<br/>\n",
    "https://matplotlib.org/3.5.1/api/pyplot_summary.html<br/>\n",
    "https://stackoverflow.com/questions/24943991/change-grid-interval-and-specify-tick-labels-in-matplotlib<br/>\n",
    "https://stackoverflow.com/questions/332289/how-do-you-change-the-size-of-figures-drawn-with-matplotlib<br/>"
   ]
  },
  {
   "cell_type": "markdown",
   "metadata": {},
   "source": [
    "Confusion Matrix - colored <br/>\n",
    "<code>sklearn.metrics.ConfusionMatrixDisplay</code>\n",
    "https://scikit-learn.org/stable/modules/generated/sklearn.metrics.ConfusionMatrixDisplay.html#sklearn.metrics.ConfusionMatrixDisplay.from_predictions"
   ]
  },
  {
   "cell_type": "markdown",
   "metadata": {},
   "source": [
    "# Demo"
   ]
  },
  {
   "cell_type": "code",
   "execution_count": 11,
   "metadata": {
    "scrolled": false
   },
   "outputs": [],
   "source": [
    "# Load libraries\n",
    "from pandas import read_csv\n",
    "from pandas.plotting import scatter_matrix\n",
    "from matplotlib import pyplot as plt\n",
    "from sklearn.model_selection import train_test_split\n",
    "from sklearn.model_selection import cross_val_score\n",
    "from sklearn.model_selection import StratifiedKFold\n",
    "from sklearn.metrics import classification_report\n",
    "from sklearn.metrics import confusion_matrix\n",
    "from sklearn.metrics import accuracy_score\n",
    "from sklearn.linear_model import LogisticRegression\n",
    "from sklearn.tree import DecisionTreeClassifier\n",
    "from sklearn.neighbors import KNeighborsClassifier\n",
    "from sklearn.discriminant_analysis import LinearDiscriminantAnalysis\n",
    "from sklearn.naive_bayes import GaussianNB\n",
    "from sklearn.svm import SVC"
   ]
  },
  {
   "cell_type": "code",
   "execution_count": 3,
   "metadata": {
    "scrolled": true
   },
   "outputs": [
    {
     "name": "stdout",
     "output_type": "stream",
     "text": [
      "Python: 3.7.4 (default, Aug  9 2019, 18:34:13) [MSC v.1915 64 bit (AMD64)]\n",
      "scipy: 1.3.1\n",
      "numpy: 1.21.5\n",
      "matplotlib: 3.1.1\n",
      "pandas: 1.3.5\n",
      "sklearn: 1.0.2\n"
     ]
    }
   ],
   "source": [
    "# Check the versions of libraries\n",
    "import sys # Python version\n",
    "print('Python: {}'.format(sys.version))\n",
    "import scipy\n",
    "print('scipy: {}'.format(scipy.__version__))\n",
    "import numpy\n",
    "print('numpy: {}'.format(numpy.__version__))\n",
    "import matplotlib\n",
    "print('matplotlib: {}'.format(matplotlib.__version__))\n",
    "import pandas\n",
    "print('pandas: {}'.format(pandas.__version__))\n",
    "import sklearn # scikit-learn\n",
    "print('sklearn: {}'.format(sklearn.__version__))"
   ]
  },
  {
   "cell_type": "code",
   "execution_count": 3,
   "metadata": {},
   "outputs": [],
   "source": [
    "#locate the online dataset\n",
    "url = \"https://raw.githubusercontent.com/jbrownlee/Datasets/master/iris.csv\"\n",
    "#define the name of columns\n",
    "names = ['sepal-length', 'sepal-width', 'petal-length', 'petal-width', 'class']\n",
    "#load the dataset as 'dataset' while assigning the column names to 'names' just defined\n",
    "dataset = read_csv(url, names=names)"
   ]
  },
  {
   "cell_type": "code",
   "execution_count": 5,
   "metadata": {
    "scrolled": false
   },
   "outputs": [
    {
     "data": {
      "text/plain": [
       "(150, 5)"
      ]
     },
     "execution_count": 5,
     "metadata": {},
     "output_type": "execute_result"
    }
   ],
   "source": [
    "#check instances(rows) and attributes (columns)\n",
    "dataset.shape"
   ]
  },
  {
   "cell_type": "code",
   "execution_count": 6,
   "metadata": {},
   "outputs": [
    {
     "data": {
      "text/plain": [
       "['sepal-length', 'sepal-width', 'petal-length', 'petal-width', 'class']"
      ]
     },
     "execution_count": 6,
     "metadata": {},
     "output_type": "execute_result"
    }
   ],
   "source": [
    "#lsit the attributes\n",
    "list(dataset.columns)"
   ]
  },
  {
   "cell_type": "code",
   "execution_count": null,
   "metadata": {},
   "outputs": [],
   "source": [
    "#set variable to categorical\n",
    "data1.PACP_Mater= data1.PACP_Mater.astype(\"category\")\n",
    "data1[['PACP_Shape', 'PACP_Mater', 'Hydro  group encoded','flood design score']]= data1[['PACP_Shape', 'PACP_Mater', 'Hydro  group encoded','flood design score']].astype(\"category\")\n"
   ]
  },
  {
   "cell_type": "code",
   "execution_count": null,
   "metadata": {},
   "outputs": [],
   "source": [
    "#check data type and size for each feature (aka. column)\n",
    "data1.info()"
   ]
  },
  {
   "cell_type": "code",
   "execution_count": 8,
   "metadata": {},
   "outputs": [
    {
     "data": {
      "text/plain": [
       "Iris-setosa        50\n",
       "Iris-versicolor    50\n",
       "Iris-virginica     50\n",
       "Name: class, dtype: int64"
      ]
     },
     "execution_count": 8,
     "metadata": {},
     "output_type": "execute_result"
    }
   ],
   "source": [
    "#description of **categorical** variables\n",
    "dataset['class'].value_counts()"
   ]
  },
  {
   "cell_type": "code",
   "execution_count": 4,
   "metadata": {},
   "outputs": [
    {
     "data": {
      "text/plain": [
       "class\n",
       "Iris-setosa        50\n",
       "Iris-versicolor    50\n",
       "Iris-virginica     50\n",
       "dtype: int64"
      ]
     },
     "execution_count": 4,
     "metadata": {},
     "output_type": "execute_result"
    }
   ],
   "source": [
    "# check distribution of instances by 'class' attribute\n",
    "dataset.groupby('class').size()"
   ]
  },
  {
   "cell_type": "code",
   "execution_count": 9,
   "metadata": {
    "scrolled": false
   },
   "outputs": [
    {
     "data": {
      "text/html": [
       "<div>\n",
       "<style scoped>\n",
       "    .dataframe tbody tr th:only-of-type {\n",
       "        vertical-align: middle;\n",
       "    }\n",
       "\n",
       "    .dataframe tbody tr th {\n",
       "        vertical-align: top;\n",
       "    }\n",
       "\n",
       "    .dataframe thead th {\n",
       "        text-align: right;\n",
       "    }\n",
       "</style>\n",
       "<table border=\"1\" class=\"dataframe\">\n",
       "  <thead>\n",
       "    <tr style=\"text-align: right;\">\n",
       "      <th></th>\n",
       "      <th>sepal-length</th>\n",
       "      <th>sepal-width</th>\n",
       "      <th>petal-length</th>\n",
       "      <th>petal-width</th>\n",
       "    </tr>\n",
       "  </thead>\n",
       "  <tbody>\n",
       "    <tr>\n",
       "      <th>count</th>\n",
       "      <td>150.000000</td>\n",
       "      <td>150.000000</td>\n",
       "      <td>150.000000</td>\n",
       "      <td>150.000000</td>\n",
       "    </tr>\n",
       "    <tr>\n",
       "      <th>mean</th>\n",
       "      <td>5.843333</td>\n",
       "      <td>3.054000</td>\n",
       "      <td>3.758667</td>\n",
       "      <td>1.198667</td>\n",
       "    </tr>\n",
       "    <tr>\n",
       "      <th>std</th>\n",
       "      <td>0.828066</td>\n",
       "      <td>0.433594</td>\n",
       "      <td>1.764420</td>\n",
       "      <td>0.763161</td>\n",
       "    </tr>\n",
       "    <tr>\n",
       "      <th>min</th>\n",
       "      <td>4.300000</td>\n",
       "      <td>2.000000</td>\n",
       "      <td>1.000000</td>\n",
       "      <td>0.100000</td>\n",
       "    </tr>\n",
       "    <tr>\n",
       "      <th>25%</th>\n",
       "      <td>5.100000</td>\n",
       "      <td>2.800000</td>\n",
       "      <td>1.600000</td>\n",
       "      <td>0.300000</td>\n",
       "    </tr>\n",
       "    <tr>\n",
       "      <th>50%</th>\n",
       "      <td>5.800000</td>\n",
       "      <td>3.000000</td>\n",
       "      <td>4.350000</td>\n",
       "      <td>1.300000</td>\n",
       "    </tr>\n",
       "    <tr>\n",
       "      <th>75%</th>\n",
       "      <td>6.400000</td>\n",
       "      <td>3.300000</td>\n",
       "      <td>5.100000</td>\n",
       "      <td>1.800000</td>\n",
       "    </tr>\n",
       "    <tr>\n",
       "      <th>max</th>\n",
       "      <td>7.900000</td>\n",
       "      <td>4.400000</td>\n",
       "      <td>6.900000</td>\n",
       "      <td>2.500000</td>\n",
       "    </tr>\n",
       "  </tbody>\n",
       "</table>\n",
       "</div>"
      ],
      "text/plain": [
       "       sepal-length  sepal-width  petal-length  petal-width\n",
       "count    150.000000   150.000000    150.000000   150.000000\n",
       "mean       5.843333     3.054000      3.758667     1.198667\n",
       "std        0.828066     0.433594      1.764420     0.763161\n",
       "min        4.300000     2.000000      1.000000     0.100000\n",
       "25%        5.100000     2.800000      1.600000     0.300000\n",
       "50%        5.800000     3.000000      4.350000     1.300000\n",
       "75%        6.400000     3.300000      5.100000     1.800000\n",
       "max        7.900000     4.400000      6.900000     2.500000"
      ]
     },
     "execution_count": 9,
     "metadata": {},
     "output_type": "execute_result"
    }
   ],
   "source": [
    "#show statistical summary of each **numeric** attribute  \n",
    "#results show values in similar scale and ranges\n",
    "dataset.describe()\n",
    "#if not, perform feature scaling\n",
    "#https://machinelearningmastery.com/rescaling-data-for-machine-learning-in-python-with-scikit-learn/"
   ]
  },
  {
   "cell_type": "markdown",
   "metadata": {},
   "source": [
    "###  switching to a different dataset"
   ]
  },
  {
   "cell_type": "code",
   "execution_count": 9,
   "metadata": {
    "scrolled": true
   },
   "outputs": [
    {
     "name": "stdout",
     "output_type": "stream",
     "text": [
      "(768, 9)\n"
     ]
    }
   ],
   "source": [
    "# load and summarize the diabetes dataset\n",
    "from pandas import read_csv\n",
    "from pandas.plotting import scatter_matrix\n",
    "from matplotlib import pyplot as plt\n",
    "# Load dataset\n",
    "url = \"https://raw.githubusercontent.com/jbrownlee/Datasets/master/pima-indians-diabetes.csv\"\n",
    "dataset = read_csv(url, header=None)\n",
    "# summarize the shape of the dataset\n",
    "print(dataset.shape)\n",
    "# histograms of the variables"
   ]
  },
  {
   "cell_type": "code",
   "execution_count": 11,
   "metadata": {
    "collapsed": true
   },
   "outputs": [
    {
     "data": {
      "text/html": [
       "<div>\n",
       "<style scoped>\n",
       "    .dataframe tbody tr th:only-of-type {\n",
       "        vertical-align: middle;\n",
       "    }\n",
       "\n",
       "    .dataframe tbody tr th {\n",
       "        vertical-align: top;\n",
       "    }\n",
       "\n",
       "    .dataframe thead th {\n",
       "        text-align: right;\n",
       "    }\n",
       "</style>\n",
       "<table border=\"1\" class=\"dataframe\">\n",
       "  <thead>\n",
       "    <tr style=\"text-align: right;\">\n",
       "      <th></th>\n",
       "      <th>0</th>\n",
       "      <th>1</th>\n",
       "      <th>2</th>\n",
       "      <th>3</th>\n",
       "      <th>4</th>\n",
       "      <th>5</th>\n",
       "      <th>6</th>\n",
       "      <th>7</th>\n",
       "      <th>8</th>\n",
       "    </tr>\n",
       "  </thead>\n",
       "  <tbody>\n",
       "    <tr>\n",
       "      <th>0</th>\n",
       "      <td>6</td>\n",
       "      <td>148</td>\n",
       "      <td>72</td>\n",
       "      <td>35</td>\n",
       "      <td>0</td>\n",
       "      <td>33.6</td>\n",
       "      <td>0.627</td>\n",
       "      <td>50</td>\n",
       "      <td>1</td>\n",
       "    </tr>\n",
       "    <tr>\n",
       "      <th>1</th>\n",
       "      <td>1</td>\n",
       "      <td>85</td>\n",
       "      <td>66</td>\n",
       "      <td>29</td>\n",
       "      <td>0</td>\n",
       "      <td>26.6</td>\n",
       "      <td>0.351</td>\n",
       "      <td>31</td>\n",
       "      <td>0</td>\n",
       "    </tr>\n",
       "    <tr>\n",
       "      <th>2</th>\n",
       "      <td>8</td>\n",
       "      <td>183</td>\n",
       "      <td>64</td>\n",
       "      <td>0</td>\n",
       "      <td>0</td>\n",
       "      <td>23.3</td>\n",
       "      <td>0.672</td>\n",
       "      <td>32</td>\n",
       "      <td>1</td>\n",
       "    </tr>\n",
       "    <tr>\n",
       "      <th>3</th>\n",
       "      <td>1</td>\n",
       "      <td>89</td>\n",
       "      <td>66</td>\n",
       "      <td>23</td>\n",
       "      <td>94</td>\n",
       "      <td>28.1</td>\n",
       "      <td>0.167</td>\n",
       "      <td>21</td>\n",
       "      <td>0</td>\n",
       "    </tr>\n",
       "    <tr>\n",
       "      <th>4</th>\n",
       "      <td>0</td>\n",
       "      <td>137</td>\n",
       "      <td>40</td>\n",
       "      <td>35</td>\n",
       "      <td>168</td>\n",
       "      <td>43.1</td>\n",
       "      <td>2.288</td>\n",
       "      <td>33</td>\n",
       "      <td>1</td>\n",
       "    </tr>\n",
       "    <tr>\n",
       "      <th>...</th>\n",
       "      <td>...</td>\n",
       "      <td>...</td>\n",
       "      <td>...</td>\n",
       "      <td>...</td>\n",
       "      <td>...</td>\n",
       "      <td>...</td>\n",
       "      <td>...</td>\n",
       "      <td>...</td>\n",
       "      <td>...</td>\n",
       "    </tr>\n",
       "    <tr>\n",
       "      <th>763</th>\n",
       "      <td>10</td>\n",
       "      <td>101</td>\n",
       "      <td>76</td>\n",
       "      <td>48</td>\n",
       "      <td>180</td>\n",
       "      <td>32.9</td>\n",
       "      <td>0.171</td>\n",
       "      <td>63</td>\n",
       "      <td>0</td>\n",
       "    </tr>\n",
       "    <tr>\n",
       "      <th>764</th>\n",
       "      <td>2</td>\n",
       "      <td>122</td>\n",
       "      <td>70</td>\n",
       "      <td>27</td>\n",
       "      <td>0</td>\n",
       "      <td>36.8</td>\n",
       "      <td>0.340</td>\n",
       "      <td>27</td>\n",
       "      <td>0</td>\n",
       "    </tr>\n",
       "    <tr>\n",
       "      <th>765</th>\n",
       "      <td>5</td>\n",
       "      <td>121</td>\n",
       "      <td>72</td>\n",
       "      <td>23</td>\n",
       "      <td>112</td>\n",
       "      <td>26.2</td>\n",
       "      <td>0.245</td>\n",
       "      <td>30</td>\n",
       "      <td>0</td>\n",
       "    </tr>\n",
       "    <tr>\n",
       "      <th>766</th>\n",
       "      <td>1</td>\n",
       "      <td>126</td>\n",
       "      <td>60</td>\n",
       "      <td>0</td>\n",
       "      <td>0</td>\n",
       "      <td>30.1</td>\n",
       "      <td>0.349</td>\n",
       "      <td>47</td>\n",
       "      <td>1</td>\n",
       "    </tr>\n",
       "    <tr>\n",
       "      <th>767</th>\n",
       "      <td>1</td>\n",
       "      <td>93</td>\n",
       "      <td>70</td>\n",
       "      <td>31</td>\n",
       "      <td>0</td>\n",
       "      <td>30.4</td>\n",
       "      <td>0.315</td>\n",
       "      <td>23</td>\n",
       "      <td>0</td>\n",
       "    </tr>\n",
       "  </tbody>\n",
       "</table>\n",
       "<p>768 rows × 9 columns</p>\n",
       "</div>"
      ],
      "text/plain": [
       "      0    1   2   3    4     5      6   7  8\n",
       "0     6  148  72  35    0  33.6  0.627  50  1\n",
       "1     1   85  66  29    0  26.6  0.351  31  0\n",
       "2     8  183  64   0    0  23.3  0.672  32  1\n",
       "3     1   89  66  23   94  28.1  0.167  21  0\n",
       "4     0  137  40  35  168  43.1  2.288  33  1\n",
       "..   ..  ...  ..  ..  ...   ...    ...  .. ..\n",
       "763  10  101  76  48  180  32.9  0.171  63  0\n",
       "764   2  122  70  27    0  36.8  0.340  27  0\n",
       "765   5  121  72  23  112  26.2  0.245  30  0\n",
       "766   1  126  60   0    0  30.1  0.349  47  1\n",
       "767   1   93  70  31    0  30.4  0.315  23  0\n",
       "\n",
       "[768 rows x 9 columns]"
      ]
     },
     "execution_count": 11,
     "metadata": {},
     "output_type": "execute_result"
    }
   ],
   "source": [
    "dataset"
   ]
  },
  {
   "cell_type": "code",
   "execution_count": 12,
   "metadata": {
    "collapsed": true
   },
   "outputs": [
    {
     "data": {
      "image/png": "[encoded data removed]",
      "text/plain": [
       "<Figure size 432x288 with 9 Axes>"
      ]
     },
     "metadata": {
      "needs_background": "light"
     },
     "output_type": "display_data"
    },
    {
     "data": {
      "text/plain": [
       "<Figure size 720x2160 with 0 Axes>"
      ]
     },
     "metadata": {},
     "output_type": "display_data"
    }
   ],
   "source": [
    "dataset.hist(layout=(9,1))\n",
    "plt.figure(figsize=(10, 30))\n",
    "plt.show()"
   ]
  },
  {
   "cell_type": "markdown",
   "metadata": {},
   "source": [
    "* 1,2,5 have a Gaussian or Gaussian like distribution\n",
    "* 0,3,4,6,7 "
   ]
  },
  {
   "cell_type": "code",
   "execution_count": 13,
   "metadata": {
    "collapsed": true
   },
   "outputs": [
    {
     "name": "stderr",
     "output_type": "stream",
     "text": [
      "C:\\ProgramData\\Anaconda3\\lib\\site-packages\\matplotlib\\cbook\\__init__.py:1402: FutureWarning: Support for multi-dimensional indexing (e.g. `obj[:, None]`) is deprecated and will be removed in a future version.  Convert to a numpy array before indexing instead.\n",
      "  x[:, None]\n",
      "C:\\ProgramData\\Anaconda3\\lib\\site-packages\\matplotlib\\axes\\_base.py:276: FutureWarning: Support for multi-dimensional indexing (e.g. `obj[:, None]`) is deprecated and will be removed in a future version.  Convert to a numpy array before indexing instead.\n",
      "  x = x[:, np.newaxis]\n",
      "C:\\ProgramData\\Anaconda3\\lib\\site-packages\\matplotlib\\axes\\_base.py:278: FutureWarning: Support for multi-dimensional indexing (e.g. `obj[:, None]`) is deprecated and will be removed in a future version.  Convert to a numpy array before indexing instead.\n",
      "  y = y[:, np.newaxis]\n"
     ]
    },
    {
     "data": {
      "image/png": "[encoded data removed]",
      "text/plain": [
       "<Figure size 432x288 with 1 Axes>"
      ]
     },
     "metadata": {
      "needs_background": "light"
     },
     "output_type": "display_data"
    },
    {
     "name": "stderr",
     "output_type": "stream",
     "text": [
      "C:\\ProgramData\\Anaconda3\\lib\\site-packages\\matplotlib\\cbook\\__init__.py:1402: FutureWarning: Support for multi-dimensional indexing (e.g. `obj[:, None]`) is deprecated and will be removed in a future version.  Convert to a numpy array before indexing instead.\n",
      "  x[:, None]\n",
      "C:\\ProgramData\\Anaconda3\\lib\\site-packages\\matplotlib\\axes\\_base.py:276: FutureWarning: Support for multi-dimensional indexing (e.g. `obj[:, None]`) is deprecated and will be removed in a future version.  Convert to a numpy array before indexing instead.\n",
      "  x = x[:, np.newaxis]\n",
      "C:\\ProgramData\\Anaconda3\\lib\\site-packages\\matplotlib\\axes\\_base.py:278: FutureWarning: Support for multi-dimensional indexing (e.g. `obj[:, None]`) is deprecated and will be removed in a future version.  Convert to a numpy array before indexing instead.\n",
      "  y = y[:, np.newaxis]\n"
     ]
    },
    {
     "data": {
      "image/png": "[encoded data removed]",
      "text/plain": [
       "<Figure size 432x288 with 1 Axes>"
      ]
     },
     "metadata": {
      "needs_background": "light"
     },
     "output_type": "display_data"
    },
    {
     "name": "stderr",
     "output_type": "stream",
     "text": [
      "C:\\ProgramData\\Anaconda3\\lib\\site-packages\\matplotlib\\cbook\\__init__.py:1402: FutureWarning: Support for multi-dimensional indexing (e.g. `obj[:, None]`) is deprecated and will be removed in a future version.  Convert to a numpy array before indexing instead.\n",
      "  x[:, None]\n",
      "C:\\ProgramData\\Anaconda3\\lib\\site-packages\\matplotlib\\axes\\_base.py:276: FutureWarning: Support for multi-dimensional indexing (e.g. `obj[:, None]`) is deprecated and will be removed in a future version.  Convert to a numpy array before indexing instead.\n",
      "  x = x[:, np.newaxis]\n",
      "C:\\ProgramData\\Anaconda3\\lib\\site-packages\\matplotlib\\axes\\_base.py:278: FutureWarning: Support for multi-dimensional indexing (e.g. `obj[:, None]`) is deprecated and will be removed in a future version.  Convert to a numpy array before indexing instead.\n",
      "  y = y[:, np.newaxis]\n"
     ]
    },
    {
     "data": {
      "image/png": "[encoded data removed]",
      "text/plain": [
       "<Figure size 432x288 with 1 Axes>"
      ]
     },
     "metadata": {
      "needs_background": "light"
     },
     "output_type": "display_data"
    },
    {
     "name": "stderr",
     "output_type": "stream",
     "text": [
      "C:\\ProgramData\\Anaconda3\\lib\\site-packages\\matplotlib\\cbook\\__init__.py:1402: FutureWarning: Support for multi-dimensional indexing (e.g. `obj[:, None]`) is deprecated and will be removed in a future version.  Convert to a numpy array before indexing instead.\n",
      "  x[:, None]\n",
      "C:\\ProgramData\\Anaconda3\\lib\\site-packages\\matplotlib\\axes\\_base.py:276: FutureWarning: Support for multi-dimensional indexing (e.g. `obj[:, None]`) is deprecated and will be removed in a future version.  Convert to a numpy array before indexing instead.\n",
      "  x = x[:, np.newaxis]\n",
      "C:\\ProgramData\\Anaconda3\\lib\\site-packages\\matplotlib\\axes\\_base.py:278: FutureWarning: Support for multi-dimensional indexing (e.g. `obj[:, None]`) is deprecated and will be removed in a future version.  Convert to a numpy array before indexing instead.\n",
      "  y = y[:, np.newaxis]\n"
     ]
    },
    {
     "data": {
      "image/png": "[encoded data removed]",
      "text/plain": [
       "<Figure size 432x288 with 1 Axes>"
      ]
     },
     "metadata": {
      "needs_background": "light"
     },
     "output_type": "display_data"
    },
    {
     "name": "stderr",
     "output_type": "stream",
     "text": [
      "C:\\ProgramData\\Anaconda3\\lib\\site-packages\\matplotlib\\cbook\\__init__.py:1402: FutureWarning: Support for multi-dimensional indexing (e.g. `obj[:, None]`) is deprecated and will be removed in a future version.  Convert to a numpy array before indexing instead.\n",
      "  x[:, None]\n",
      "C:\\ProgramData\\Anaconda3\\lib\\site-packages\\matplotlib\\axes\\_base.py:276: FutureWarning: Support for multi-dimensional indexing (e.g. `obj[:, None]`) is deprecated and will be removed in a future version.  Convert to a numpy array before indexing instead.\n",
      "  x = x[:, np.newaxis]\n",
      "C:\\ProgramData\\Anaconda3\\lib\\site-packages\\matplotlib\\axes\\_base.py:278: FutureWarning: Support for multi-dimensional indexing (e.g. `obj[:, None]`) is deprecated and will be removed in a future version.  Convert to a numpy array before indexing instead.\n",
      "  y = y[:, np.newaxis]\n"
     ]
    },
    {
     "data": {
      "image/png": "[encoded data removed]",
      "text/plain": [
       "<Figure size 432x288 with 1 Axes>"
      ]
     },
     "metadata": {
      "needs_background": "light"
     },
     "output_type": "display_data"
    },
    {
     "name": "stderr",
     "output_type": "stream",
     "text": [
      "C:\\ProgramData\\Anaconda3\\lib\\site-packages\\matplotlib\\cbook\\__init__.py:1402: FutureWarning: Support for multi-dimensional indexing (e.g. `obj[:, None]`) is deprecated and will be removed in a future version.  Convert to a numpy array before indexing instead.\n",
      "  x[:, None]\n",
      "C:\\ProgramData\\Anaconda3\\lib\\site-packages\\matplotlib\\axes\\_base.py:276: FutureWarning: Support for multi-dimensional indexing (e.g. `obj[:, None]`) is deprecated and will be removed in a future version.  Convert to a numpy array before indexing instead.\n",
      "  x = x[:, np.newaxis]\n",
      "C:\\ProgramData\\Anaconda3\\lib\\site-packages\\matplotlib\\axes\\_base.py:278: FutureWarning: Support for multi-dimensional indexing (e.g. `obj[:, None]`) is deprecated and will be removed in a future version.  Convert to a numpy array before indexing instead.\n",
      "  y = y[:, np.newaxis]\n"
     ]
    },
    {
     "data": {
      "image/png": "[encoded data removed]",
      "text/plain": [
       "<Figure size 432x288 with 1 Axes>"
      ]
     },
     "metadata": {
      "needs_background": "light"
     },
     "output_type": "display_data"
    },
    {
     "name": "stderr",
     "output_type": "stream",
     "text": [
      "C:\\ProgramData\\Anaconda3\\lib\\site-packages\\matplotlib\\cbook\\__init__.py:1402: FutureWarning: Support for multi-dimensional indexing (e.g. `obj[:, None]`) is deprecated and will be removed in a future version.  Convert to a numpy array before indexing instead.\n",
      "  x[:, None]\n",
      "C:\\ProgramData\\Anaconda3\\lib\\site-packages\\matplotlib\\axes\\_base.py:276: FutureWarning: Support for multi-dimensional indexing (e.g. `obj[:, None]`) is deprecated and will be removed in a future version.  Convert to a numpy array before indexing instead.\n",
      "  x = x[:, np.newaxis]\n",
      "C:\\ProgramData\\Anaconda3\\lib\\site-packages\\matplotlib\\axes\\_base.py:278: FutureWarning: Support for multi-dimensional indexing (e.g. `obj[:, None]`) is deprecated and will be removed in a future version.  Convert to a numpy array before indexing instead.\n",
      "  y = y[:, np.newaxis]\n"
     ]
    },
    {
     "data": {
      "image/png": "[encoded data removed]",
      "text/plain": [
       "<Figure size 432x288 with 1 Axes>"
      ]
     },
     "metadata": {
      "needs_background": "light"
     },
     "output_type": "display_data"
    },
    {
     "name": "stderr",
     "output_type": "stream",
     "text": [
      "C:\\ProgramData\\Anaconda3\\lib\\site-packages\\matplotlib\\cbook\\__init__.py:1402: FutureWarning: Support for multi-dimensional indexing (e.g. `obj[:, None]`) is deprecated and will be removed in a future version.  Convert to a numpy array before indexing instead.\n",
      "  x[:, None]\n",
      "C:\\ProgramData\\Anaconda3\\lib\\site-packages\\matplotlib\\axes\\_base.py:276: FutureWarning: Support for multi-dimensional indexing (e.g. `obj[:, None]`) is deprecated and will be removed in a future version.  Convert to a numpy array before indexing instead.\n",
      "  x = x[:, np.newaxis]\n",
      "C:\\ProgramData\\Anaconda3\\lib\\site-packages\\matplotlib\\axes\\_base.py:278: FutureWarning: Support for multi-dimensional indexing (e.g. `obj[:, None]`) is deprecated and will be removed in a future version.  Convert to a numpy array before indexing instead.\n",
      "  y = y[:, np.newaxis]\n"
     ]
    },
    {
     "data": {
      "image/png": "[encoded data removed]",
      "text/plain": [
       "<Figure size 432x288 with 1 Axes>"
      ]
     },
     "metadata": {
      "needs_background": "light"
     },
     "output_type": "display_data"
    },
    {
     "name": "stderr",
     "output_type": "stream",
     "text": [
      "C:\\ProgramData\\Anaconda3\\lib\\site-packages\\matplotlib\\cbook\\__init__.py:1402: FutureWarning: Support for multi-dimensional indexing (e.g. `obj[:, None]`) is deprecated and will be removed in a future version.  Convert to a numpy array before indexing instead.\n",
      "  x[:, None]\n",
      "C:\\ProgramData\\Anaconda3\\lib\\site-packages\\matplotlib\\axes\\_base.py:276: FutureWarning: Support for multi-dimensional indexing (e.g. `obj[:, None]`) is deprecated and will be removed in a future version.  Convert to a numpy array before indexing instead.\n",
      "  x = x[:, np.newaxis]\n",
      "C:\\ProgramData\\Anaconda3\\lib\\site-packages\\matplotlib\\axes\\_base.py:278: FutureWarning: Support for multi-dimensional indexing (e.g. `obj[:, None]`) is deprecated and will be removed in a future version.  Convert to a numpy array before indexing instead.\n",
      "  y = y[:, np.newaxis]\n"
     ]
    },
    {
     "data": {
      "image/png": "[encoded data removed]",
      "text/plain": [
       "<Figure size 432x288 with 1 Axes>"
      ]
     },
     "metadata": {
      "needs_background": "light"
     },
     "output_type": "display_data"
    }
   ],
   "source": [
    "import seaborn as sns\n",
    "import matplotlib.pyplot as plt\n",
    "#sns.set(style=\"darkgrid\")\n",
    "for column in dataset:\n",
    "    sns.histplot(data=dataset[column], color=\"skyblue\", label=str(column), kde=True)\n",
    "    plt.show()"
   ]
  },
  {
   "cell_type": "code",
   "execution_count": 7,
   "metadata": {
    "collapsed": true
   },
   "outputs": [
    {
     "data": {
      "image/png": "[encoded data removed]",
      "text/plain": [
       "<Figure size 432x288 with 9 Axes>"
      ]
     },
     "metadata": {
      "needs_background": "light"
     },
     "output_type": "display_data"
    },
    {
     "data": {
      "image/png": "[encoded data removed]",
      "text/plain": [
       "<Figure size 432x288 with 4 Axes>"
      ]
     },
     "metadata": {
      "needs_background": "light"
     },
     "output_type": "display_data"
    }
   ],
   "source": [
    "### Univariable plots  - only show one variable (attribute) in one plot\n",
    "\n",
    "\n",
    "#box and whisker plots to present distribution of attributes \n",
    "#using plot() function - not x-axis - and set type to 'box' plot\n",
    "#layout to present plots (#rows, #columns)\n",
    "#set sharex and sharey to True if need to use the same x or y scale\n",
    "#change color 'g' = green,'m' = magenta,'r' = red,'c' as cyan,'y' as yellow,'k' as black,'w' as white\n",
    "dataset.plot(kind='box', subplots=True, layout=(3,3), sharex=False, sharey=True, color='goldenrod')\n",
    "plt.show()\n",
    "\n",
    "# histograms to show distribution pattern (occurrence by each attribute value or bin) of each attirbute\n",
    "dataset.hist(color='m')\n",
    "plt.show()"
   ]
  },
  {
   "cell_type": "code",
   "execution_count": 20,
   "metadata": {
    "collapsed": true
   },
   "outputs": [
    {
     "data": {
      "image/png": "[encoded data removed]",
      "text/plain": [
       "<Figure size 432x288 with 81 Axes>"
      ]
     },
     "metadata": {
      "needs_background": "light"
     },
     "output_type": "display_data"
    }
   ],
   "source": [
    "####  Multivariate Plots  - multiple variables in one plot\n",
    "\n",
    "# scatter plot matrix  - plot all pairs of attributes\n",
    "# to spot structured relationships between input variables\n",
    "# diagonal grouping suggests a high correlation and a predictable relationship\n",
    "scatter_matrix(dataset, color='olive')\n",
    "plt.show()"
   ]
  },
  {
   "cell_type": "code",
   "execution_count": 12,
   "metadata": {},
   "outputs": [],
   "source": [
    "# create test set\n",
    "# to be used as unseen data to get independent accuracy assessment of the models\n",
    "\n",
    "#in this tutorial, 80%-20% split for training and test\n",
    "\n",
    "# Split-out test dataset\n",
    "#make the data into a NumPy array\n",
    "#https://machinelearningmastery.com/index-slice-reshape-numpy-arrays-machine-learning-python/\n",
    "array = dataset.values\n",
    "#slicing the array by input and output [row slicing, column slicing]\n",
    "#first colon before the comma indicates no slicing in rows\n",
    "#set x as the first four columns that starging at #0 and end at #3 (#4 not included)\n",
    "\n",
    "X = array[:,0:4] #or X=array[:,:-1] - dropping the last column\n",
    "\n",
    "#slicing the 5th column as y, naming starts at #0\n",
    "y = array[:,4]\n",
    "#setting 80% as train set, 20% as test set\n",
    "#'random_state' argument ensures the same randomly generated examples each time the code is run.\n",
    "#The specific random seed does not matter\n",
    "X_train, X_test, Y_train, Y_test = train_test_split(X, y, test_size=0.20, random_state=1)"
   ]
  },
  {
   "cell_type": "code",
   "execution_count": 13,
   "metadata": {
    "collapsed": true
   },
   "outputs": [
    {
     "name": "stderr",
     "output_type": "stream",
     "text": [
      "W:\\AppData\\Roaming\\Python\\Python37\\site-packages\\sklearn\\model_selection\\_split.py:680: UserWarning: The least populated class in y has only 1 members, which is less than n_splits=10.\n",
      "  UserWarning,\n"
     ]
    },
    {
     "name": "stdout",
     "output_type": "stream",
     "text": [
      "LR: 0.488604 (0.014265)\n",
      "LDA: 0.485352 (0.011961)\n",
      "KNN: 0.462665 (0.030129)\n",
      "CART: 0.368165 (0.042184)"
     ]
    },
    {
     "name": "stderr",
     "output_type": "stream",
     "text": [
      "W:\\AppData\\Roaming\\Python\\Python37\\site-packages\\sklearn\\model_selection\\_split.py:680: UserWarning: The least populated class in y has only 1 members, which is less than n_splits=10.\n",
      "  UserWarning,\n",
      "W:\\AppData\\Roaming\\Python\\Python37\\site-packages\\sklearn\\model_selection\\_split.py:680: UserWarning: The least populated class in y has only 1 members, which is less than n_splits=10.\n",
      "  UserWarning,\n",
      "W:\\AppData\\Roaming\\Python\\Python37\\site-packages\\sklearn\\model_selection\\_split.py:680: UserWarning: The least populated class in y has only 1 members, which is less than n_splits=10.\n",
      "  UserWarning,\n"
     ]
    },
    {
     "name": "stdout",
     "output_type": "stream",
     "text": [
      "\n",
      "NB: 0.425225 (0.032947)\n"
     ]
    },
    {
     "name": "stderr",
     "output_type": "stream",
     "text": [
      "W:\\AppData\\Roaming\\Python\\Python37\\site-packages\\sklearn\\model_selection\\_split.py:680: UserWarning: The least populated class in y has only 1 members, which is less than n_splits=10.\n",
      "  UserWarning,\n",
      "W:\\AppData\\Roaming\\Python\\Python37\\site-packages\\sklearn\\model_selection\\_split.py:680: UserWarning: The least populated class in y has only 1 members, which is less than n_splits=10.\n",
      "  UserWarning,\n"
     ]
    },
    {
     "name": "stdout",
     "output_type": "stream",
     "text": [
      "SVM: 0.498387 (0.007983)\n"
     ]
    }
   ],
   "source": [
    "# Spot Check Algorithms\n",
    "models = []\n",
    "#https://scikit-learn.org/0.16/modules/generated/sklearn.linear_model.LogisticRegression.html\n",
    "models.append(('LR', LogisticRegression(solver='liblinear', multi_class='ovr')))\n",
    "models.append(('LDA', LinearDiscriminantAnalysis()))\n",
    "models.append(('KNN', KNeighborsClassifier()))\n",
    "models.append(('CART', DecisionTreeClassifier()))\n",
    "models.append(('NB', GaussianNB()))\n",
    "models.append(('SVM', SVC(gamma='auto')))\n",
    "# evaluate each model in turn\n",
    "results = []\n",
    "names = []\n",
    "for name, model in models:\n",
    "\tkfold = StratifiedKFold(n_splits=10, random_state=1, shuffle=True)\n",
    "\tcv_results = cross_val_score(model, X_train, Y_train, cv=kfold, scoring='accuracy')\n",
    "\tresults.append(cv_results)\n",
    "\tnames.append(name)\n",
    "    #print out accuracy score mean and std\n",
    "\tprint('%s: %f (%f)' % (name, cv_results.mean(), cv_results.std()))\n",
    "    # it shows SVM predicts most accurately ~98%"
   ]
  },
  {
   "cell_type": "markdown",
   "metadata": {},
   "source": [
    "* The warnings show that the dataset is highly unbalanced (certain class of the output variables are too few for the training)"
   ]
  },
  {
   "cell_type": "code",
   "execution_count": 25,
   "metadata": {},
   "outputs": [],
   "source": [
    "#fit the model of best performed algorithm using the entire traing set (without k-fold spliting)\n",
    "#Make predictions on test dataset \n",
    "model = SVC(gamma='auto')\n",
    "model.fit(X_train, Y_train)\n",
    "predictions = model.predict(X_test)"
   ]
  },
  {
   "cell_type": "code",
   "execution_count": 23,
   "metadata": {
    "collapsed": true
   },
   "outputs": [
    {
     "data": {
      "image/png": "[encoded data removed]",
      "text/plain": [
       "<Figure size 432x288 with 1 Axes>"
      ]
     },
     "metadata": {
      "needs_background": "light"
     },
     "output_type": "display_data"
    }
   ],
   "source": [
    "# Compare Algorithms via a box and whisker plot\n",
    "plt.boxplot(results, labels=names)\n",
    "plt.title('Algorithm Comparison')\n",
    "plt.show()"
   ]
  },
  {
   "cell_type": "code",
   "execution_count": 26,
   "metadata": {
    "collapsed": true
   },
   "outputs": [
    {
     "name": "stdout",
     "output_type": "stream",
     "text": [
      "0.44155844155844154\n",
      "[[68  0  0 ...  0  0  0]\n",
      " [ 1  0  0 ...  0  0  0]\n",
      " [ 1  0  0 ...  0  0  0]\n",
      " ...\n",
      " [ 1  0  0 ...  0  0  0]\n",
      " [ 1  0  0 ...  0  0  0]\n",
      " [ 1  0  0 ...  0  0  0]]\n",
      "              precision    recall  f1-score   support\n",
      "\n",
      "         0.0       0.44      1.00      0.61        68\n",
      "        14.0       0.00      0.00      0.00         1\n",
      "        16.0       0.00      0.00      0.00         1\n",
      "        18.0       0.00      0.00      0.00         1\n",
      "        22.0       0.00      0.00      0.00         1\n",
      "        44.0       0.00      0.00      0.00         1\n",
      "        45.0       0.00      0.00      0.00         2\n",
      "        49.0       0.00      0.00      0.00         1\n",
      "        50.0       0.00      0.00      0.00         1\n",
      "        54.0       0.00      0.00      0.00         2\n",
      "        56.0       0.00      0.00      0.00         1\n",
      "        57.0       0.00      0.00      0.00         1\n",
      "        58.0       0.00      0.00      0.00         2\n",
      "        60.0       0.00      0.00      0.00         1\n",
      "        64.0       0.00      0.00      0.00         1\n",
      "        66.0       0.00      0.00      0.00         1\n",
      "        67.0       0.00      0.00      0.00         1\n",
      "        73.0       0.00      0.00      0.00         1\n",
      "        81.0       0.00      0.00      0.00         1\n",
      "        82.0       0.00      0.00      0.00         1\n",
      "        89.0       0.00      0.00      0.00         1\n",
      "        90.0       0.00      0.00      0.00         1\n",
      "        91.0       0.00      0.00      0.00         1\n",
      "        92.0       0.00      0.00      0.00         1\n",
      "        94.0       0.00      0.00      0.00         1\n",
      "        96.0       0.00      0.00      0.00         1\n",
      "       100.0       0.00      0.00      0.00         2\n",
      "       105.0       0.00      0.00      0.00         2\n",
      "       106.0       0.00      0.00      0.00         1\n",
      "       110.0       0.00      0.00      0.00         2\n",
      "       112.0       0.00      0.00      0.00         1\n",
      "       114.0       0.00      0.00      0.00         1\n",
      "       116.0       0.00      0.00      0.00         2\n",
      "       120.0       0.00      0.00      0.00         1\n",
      "       122.0       0.00      0.00      0.00         1\n",
      "       125.0       0.00      0.00      0.00         2\n",
      "       126.0       0.00      0.00      0.00         1\n",
      "       127.0       0.00      0.00      0.00         1\n",
      "       130.0       0.00      0.00      0.00         2\n",
      "       135.0       0.00      0.00      0.00         1\n",
      "       140.0       0.00      0.00      0.00         3\n",
      "       142.0       0.00      0.00      0.00         1\n",
      "       144.0       0.00      0.00      0.00         2\n",
      "       145.0       0.00      0.00      0.00         1\n",
      "       148.0       0.00      0.00      0.00         2\n",
      "       155.0       0.00      0.00      0.00         1\n",
      "       160.0       0.00      0.00      0.00         1\n",
      "       165.0       0.00      0.00      0.00         2\n",
      "       170.0       0.00      0.00      0.00         1\n",
      "       176.0       0.00      0.00      0.00         1\n",
      "       180.0       0.00      0.00      0.00         2\n",
      "       182.0       0.00      0.00      0.00         1\n",
      "       184.0       0.00      0.00      0.00         1\n",
      "       190.0       0.00      0.00      0.00         2\n",
      "       192.0       0.00      0.00      0.00         1\n",
      "       194.0       0.00      0.00      0.00         1\n",
      "       207.0       0.00      0.00      0.00         1\n",
      "       210.0       0.00      0.00      0.00         3\n",
      "       230.0       0.00      0.00      0.00         1\n",
      "       231.0       0.00      0.00      0.00         1\n",
      "       255.0       0.00      0.00      0.00         1\n",
      "       265.0       0.00      0.00      0.00         1\n",
      "       304.0       0.00      0.00      0.00         1\n",
      "       335.0       0.00      0.00      0.00         1\n",
      "       415.0       0.00      0.00      0.00         1\n",
      "       495.0       0.00      0.00      0.00         1\n",
      "       510.0       0.00      0.00      0.00         1\n",
      "       543.0       0.00      0.00      0.00         1\n",
      "       545.0       0.00      0.00      0.00         1\n",
      "\n",
      "    accuracy                           0.44       154\n",
      "   macro avg       0.01      0.01      0.01       154\n",
      "weighted avg       0.19      0.44      0.27       154\n",
      "\n"
     ]
    },
    {
     "name": "stderr",
     "output_type": "stream",
     "text": [
      "W:\\AppData\\Roaming\\Python\\Python37\\site-packages\\sklearn\\metrics\\_classification.py:1318: UndefinedMetricWarning: Precision and F-score are ill-defined and being set to 0.0 in labels with no predicted samples. Use `zero_division` parameter to control this behavior.\n",
      "  _warn_prf(average, modifier, msg_start, len(result))\n",
      "W:\\AppData\\Roaming\\Python\\Python37\\site-packages\\sklearn\\metrics\\_classification.py:1318: UndefinedMetricWarning: Precision and F-score are ill-defined and being set to 0.0 in labels with no predicted samples. Use `zero_division` parameter to control this behavior.\n",
      "  _warn_prf(average, modifier, msg_start, len(result))\n",
      "W:\\AppData\\Roaming\\Python\\Python37\\site-packages\\sklearn\\metrics\\_classification.py:1318: UndefinedMetricWarning: Precision and F-score are ill-defined and being set to 0.0 in labels with no predicted samples. Use `zero_division` parameter to control this behavior.\n",
      "  _warn_prf(average, modifier, msg_start, len(result))\n"
     ]
    }
   ],
   "source": [
    "#F-1 score is better for classification models\n",
    "\n",
    "# Evaluate predictions\n",
    "\n",
    "#% accuracy in decimal form\n",
    "print(accuracy_score(Y_test, predictions)) \n",
    "# confusion matrix indicate errors\n",
    "print(confusion_matrix(Y_test, predictions)) \n",
    "#classificaiton reprot shows precision, recall, f1-score, and support by each output class \n",
    "print(classification_report(Y_test, predictions))"
   ]
  },
  {
   "cell_type": "markdown",
   "metadata": {},
   "source": [
    "***\n",
    "# Below is an elaborated example for data resampling\n",
    "# not directly relevant to the ML model used here"
   ]
  },
  {
   "cell_type": "markdown",
   "metadata": {},
   "source": [
    "#example of stratified k-fold cross-validation with an imbalanced dataset\n",
    "\n",
    "#generate a random 2 class (output) dataset\n",
    "from sklearn.datasets import make_classification\n",
    "X, y = make_classification(n_samples=1000, n_classes=2, weights=[0.99, 0.01], flip_y=0, random_state=1)"
   ]
  },
  {
   "cell_type": "markdown",
   "metadata": {
    "scrolled": true
   },
   "source": [
    "#summarize dataset by class (output) before k-fold CV\n",
    "from numpy import unique\n",
    "classes = unique(y)\n",
    "total = len(y)\n",
    "for c in classes:\n",
    "\tn_examples = len(y[y==c])\n",
    "\tpercent = n_examples / total * 100\n",
    "\tprint('> Class=%d : %d/%d (%.1f%%)' % (c, n_examples, total, percent))\n",
    "\n",
    "#currently total data set has 10/1 for class ratio, it is too imbalanced"
   ]
  },
  {
   "cell_type": "markdown",
   "metadata": {},
   "source": [
    "#imperfect k-fold CV without stratification below\n",
    "\n",
    "#use 5-fold CV can attempt to achieve this: \n",
    "#for each split (n=200), 2 have classn (output) of '1' \n",
    "#thus, 4 training set have 8 total of class '1', and 1 test set has 2 of class '1'\n",
    "#for class '1', the sample ratio of train to test is 8-2\n",
    "\n",
    "#use K-fold class **not stratified yet** to randomly split the dataset into 5-fold\n",
    "from sklearn.model_selection import KFold\n",
    "#'random_state' argument ensures the same randomly generated examples each time the code is run.\n",
    "kfold = KFold(n_splits=5, shuffle=True, random_state=1)"
   ]
  },
  {
   "cell_type": "markdown",
   "metadata": {},
   "source": [
    "#enumerate the splits and summarize the distributions\n",
    "for train_ix, test_ix in kfold.split(X):  #?????? only X?\n",
    "\t# select rows (train vs test)\n",
    "\ttrain_X, test_X = X[train_ix], X[test_ix]\n",
    "\ttrain_y, test_y = y[train_ix], y[test_ix]\n",
    "\t# summarize train and test composition \n",
    "        #y has two classes of '0' and '1'\n",
    "\ttrain_0, train_1 = len(train_y[train_y==0]), len(train_y[train_y==1])\n",
    "\ttest_0, test_1 = len(test_y[test_y==0]), len(test_y[test_y==1])\n",
    "        #number of samples for each class (rows) in train and test set of 5 models (k-fold CV generates k unique models)\n",
    "\tprint('>Train: 0=%d, 1=%d, Test: 0=%d, 1=%d' % (train_0, train_1, test_0, test_1))\n",
    "        #check if the samples in class '1' have a 8/2 split ratio in train/test, \n",
    "        #optimistic split if over, pessimistic if lower\n",
    "        #results show uneven split with a ratio other than 8/2 between train and test sets and 10/1 within each set"
   ]
  },
  {
   "cell_type": "markdown",
   "metadata": {
    "scrolled": false
   },
   "source": [
    "#using the same sample set to perform stratified k-fold split (k=5) using StratifiedKFold()\n",
    "from sklearn.model_selection import StratifiedKFold\n",
    "kfold_str = StratifiedKFold(n_splits=5, shuffle=True, random_state=1)\n",
    "#enumerate the splits and summarize the distributions\n",
    "for train_ix, test_ix in kfold_str.split(X, y):\n",
    "\t# select rows\n",
    "\ttrain_X, test_X = X[train_ix], X[test_ix]\n",
    "\ttrain_y, test_y = y[train_ix], y[test_ix]\n",
    "\t# summarize train and test composition\n",
    "\ttrain_0, train_1 = len(train_y[train_y==0]), len(train_y[train_y==1])\n",
    "\ttest_0, test_1 = len(test_y[test_y==0]), len(test_y[test_y==1])\n",
    "\tprint('>Train: 0=%d, 1=%d, Test: 0=%d, 1=%d' % (train_0, train_1, test_0, test_1))\n",
    "    #results show even split wiht a ratio of 8/2 between train and test sets and 10/1 within each set"
   ]
  },
  {
   "cell_type": "markdown",
   "metadata": {
    "scrolled": false
   },
   "source": [
    "#using the same sample set to perform stratified k-fold split (k=5) using train_test_split() with stratification\n",
    "#split into train/test sets with same class ratio\n",
    "trainX, testX, trainy, testy = train_test_split(X, y, test_size=0.8, random_state=2, stratify=y)\n",
    "#summarize\n",
    "train_0, train_1 = len(trainy[trainy==0]), len(trainy[trainy==1])\n",
    "test_0, test_1 = len(testy[testy==0]), len(testy[testy==1])\n",
    "print('>Train: 0=%d, 1=%d, Test: 0=%d, 1=%d' % (train_0, train_1, test_0, test_1))"
   ]
  },
  {
   "cell_type": "markdown",
   "metadata": {},
   "source": [
    "***"
   ]
  }
 ],
 "metadata": {
  "kernelspec": {
   "display_name": "Python 3",
   "language": "python",
   "name": "python3"
  },
  "language_info": {
   "codemirror_mode": {
    "name": "ipython",
    "version": 3
   },
   "file_extension": ".py",
   "mimetype": "text/x-python",
   "name": "python",
   "nbconvert_exporter": "python",
   "pygments_lexer": "ipython3",
   "version": "3.7.4"
  }
 },
 "nbformat": 4,
 "nbformat_minor": 5
}
